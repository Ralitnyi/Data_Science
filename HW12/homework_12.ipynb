{
 "cells": [
  {
   "cell_type": "code",
   "execution_count": 15,
   "id": "acf02309-af90-473a-90aa-8a0c168da32a",
   "metadata": {},
   "outputs": [
    {
     "name": "stderr",
     "output_type": "stream",
     "text": [
      "[nltk_data] Downloading package punkt to /home/ivan/nltk_data...\n",
      "[nltk_data]   Package punkt is already up-to-date!\n",
      "[nltk_data] Downloading package stopwords to /home/ivan/nltk_data...\n",
      "[nltk_data]   Unzipping corpora/stopwords.zip.\n"
     ]
    },
    {
     "data": {
      "text/plain": [
       "True"
      ]
     },
     "execution_count": 15,
     "metadata": {},
     "output_type": "execute_result"
    }
   ],
   "source": [
    "import nltk\n",
    "from nltk.corpus import stopwords\n",
    "from nltk.tokenize import sent_tokenize, word_tokenize\n",
    "from heapq import nlargest\n",
    "import spacy\n",
    "nltk.download('punkt')\n",
    "nltk.download('stopwords')"
   ]
  },
  {
   "cell_type": "code",
   "execution_count": 10,
   "id": "e25518bb-225a-4976-8afc-a6cc4a3ab56a",
   "metadata": {},
   "outputs": [],
   "source": [
    "# Завантаження моделі SpaCy для англійської мови\n",
    "nlp = spacy.load('en_core_web_sm')"
   ]
  },
  {
   "cell_type": "code",
   "execution_count": 13,
   "id": "554c962d-e934-4cff-8e40-34500df98c80",
   "metadata": {},
   "outputs": [],
   "source": [
    "# Текст для обробки\n",
    "with open(\"text.txt\", \"r\") as file:\n",
    "    text = file.read()\n",
    "\n",
    "# Токенізація речень та слів за допомогою NLTK\n",
    "sentences = sent_tokenize(text)\n",
    "words = word_tokenize(text)"
   ]
  },
  {
   "cell_type": "code",
   "execution_count": 16,
   "id": "88f6d1e8-ce48-4a0d-b0b3-9c0042ddc657",
   "metadata": {},
   "outputs": [],
   "source": [
    "# Видалення стоп-слів\n",
    "stop_words = set(stopwords.words('english'))\n",
    "filtered_words = [word for word in words if word.lower() not in stop_words]\n",
    "\n",
    "# Підрахунок кількості кожного слова\n",
    "word_frequencies = {}\n",
    "for word in filtered_words:\n",
    "    if word not in word_frequencies:\n",
    "        word_frequencies[word] = 1\n",
    "    else:\n",
    "        word_frequencies[word] += 1"
   ]
  },
  {
   "cell_type": "code",
   "execution_count": 17,
   "id": "7ce57613-01ae-4330-a71b-f321bd8f8baa",
   "metadata": {},
   "outputs": [],
   "source": [
    "# Нормалізація частоти появи слів\n",
    "maximum_frequency = max(word_frequencies.values())\n",
    "for word in word_frequencies.keys():\n",
    "    word_frequencies[word] = (word_frequencies[word] / maximum_frequency)"
   ]
  },
  {
   "cell_type": "code",
   "execution_count": 18,
   "id": "c8f3d73a-942b-4d65-9857-8f39b7c27001",
   "metadata": {},
   "outputs": [],
   "source": [
    "# Обчислення ваги речень на основі частот слів\n",
    "sentence_scores = {}\n",
    "for sentence in sentences:\n",
    "    for word in word_tokenize(sentence.lower()):\n",
    "        if word in word_frequencies.keys():\n",
    "            if len(sentence.split(' ')) < 30:\n",
    "                if sentence not in sentence_scores.keys():\n",
    "                    sentence_scores[sentence] = word_frequencies[word]\n",
    "                else:\n",
    "                    sentence_scores[sentence] += word_frequencies[word]"
   ]
  },
  {
   "cell_type": "code",
   "execution_count": 19,
   "id": "4ff73bd8-0a6a-4686-9919-fa8ea9c21a93",
   "metadata": {},
   "outputs": [
    {
     "name": "stdout",
     "output_type": "stream",
     "text": [
      "As Hale stated, the Space Shuttle remains “the largest, fastest, winged hypersonic aircraft in history,” having regularly flown at twenty-five times the speed of sound. Unlike the Mercury, Gemini, and Apollo programs, the SSP’s emphasis was on cost effectiveness and reusability, and eventually the construction of a space station. She flew the first and last dedicated Department of Defense (DoD) missions, as well as the first unclassified defense-related mission. The Space Shuttle orbiter also featured the first reusable TPS; all previous spaceflight vehicles had a single-use, ablative heat shield.\n"
     ]
    }
   ],
   "source": [
    "# Вибір найважливіших речень для створення summary\n",
    "select_length = int(len(sentences)*0.3)\n",
    "summary_sentences = nlargest(select_length, sentence_scores, key=sentence_scores.get)\n",
    "summary = ' '.join(summary_sentences)\n",
    "\n",
    "print(summary)"
   ]
  },
  {
   "cell_type": "code",
   "execution_count": null,
   "id": "3b7b112e-1269-4c5b-b3c7-226d5ccb3a09",
   "metadata": {},
   "outputs": [],
   "source": []
  }
 ],
 "metadata": {
  "kernelspec": {
   "display_name": "Python 3 (ipykernel)",
   "language": "python",
   "name": "python3"
  },
  "language_info": {
   "codemirror_mode": {
    "name": "ipython",
    "version": 3
   },
   "file_extension": ".py",
   "mimetype": "text/x-python",
   "name": "python",
   "nbconvert_exporter": "python",
   "pygments_lexer": "ipython3",
   "version": "3.10.12"
  }
 },
 "nbformat": 4,
 "nbformat_minor": 5
}
