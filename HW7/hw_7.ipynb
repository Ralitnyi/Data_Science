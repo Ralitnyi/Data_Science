{
 "cells": [
  {
   "cell_type": "code",
   "execution_count": 1,
   "id": "c7308d96-85e4-4320-8c04-395a5479e818",
   "metadata": {},
   "outputs": [],
   "source": [
    "from surprise import SVD, SVDpp, NMF\n",
    "from surprise import Dataset\n",
    "from surprise.model_selection import cross_validate\n",
    "from surprise.model_selection import RandomizedSearchCV, GridSearchCV"
   ]
  },
  {
   "cell_type": "code",
   "execution_count": 2,
   "id": "27789101-3a3d-4877-89c4-803f8b337b30",
   "metadata": {},
   "outputs": [],
   "source": [
    "data = Dataset.load_builtin('ml-100k')"
   ]
  },
  {
   "cell_type": "code",
   "execution_count": 3,
   "id": "509d7e10-795a-48eb-a891-5b4406c8bb35",
   "metadata": {},
   "outputs": [],
   "source": [
    "algo = SVD(random_state=42, reg_all=0.4, lr_all=0.01, n_epochs=15)"
   ]
  },
  {
   "cell_type": "code",
   "execution_count": 4,
   "id": "89867ebc-02a0-43ec-8831-462ecf852a90",
   "metadata": {},
   "outputs": [
    {
     "name": "stdout",
     "output_type": "stream",
     "text": [
      "Evaluating RMSE, MAE of algorithm SVD on 5 split(s).\n",
      "\n",
      "                  Fold 1  Fold 2  Fold 3  Fold 4  Fold 5  Mean    Std     \n",
      "RMSE (testset)    0.9573  0.9634  0.9467  0.9659  0.9523  0.9571  0.0070  \n",
      "MAE (testset)     0.7661  0.7711  0.7604  0.7739  0.7615  0.7666  0.0053  \n",
      "Fit time          0.56    0.44    0.43    0.43    0.42    0.46    0.05    \n",
      "Test time         0.07    0.10    0.11    0.10    0.06    0.09    0.02    \n"
     ]
    }
   ],
   "source": [
    "results = cross_validate(algo, data, measures=['RMSE', 'MAE'], cv=5, verbose=True)"
   ]
  },
  {
   "cell_type": "code",
   "execution_count": 5,
   "id": "5fac4a09-9013-4a0c-a029-fe72bc8c0118",
   "metadata": {},
   "outputs": [
    {
     "name": "stdout",
     "output_type": "stream",
     "text": [
      "Evaluating RMSE, MAE of algorithm SVDpp on 5 split(s).\n",
      "\n",
      "                  Fold 1  Fold 2  Fold 3  Fold 4  Fold 5  Mean    Std     \n",
      "RMSE (testset)    0.9160  0.9205  0.9175  0.9119  0.9242  0.9180  0.0041  \n",
      "MAE (testset)     0.7185  0.7228  0.7175  0.7156  0.7280  0.7205  0.0044  \n",
      "Fit time          17.18   17.24   17.09   17.00   17.34   17.17   0.12    \n",
      "Test time         2.14    1.96    2.00    1.93    2.34    2.07    0.15    \n"
     ]
    }
   ],
   "source": [
    "# Модель SVD++\n",
    "algo_svdpp = SVDpp()\n",
    "results_svdpp = cross_validate(algo_svdpp, data, measures=['RMSE', 'MAE'], cv=5, verbose=True)"
   ]
  },
  {
   "cell_type": "code",
   "execution_count": 6,
   "id": "d1698c8e-2dd5-4c14-a0c2-2989f97f16b7",
   "metadata": {},
   "outputs": [
    {
     "name": "stdout",
     "output_type": "stream",
     "text": [
      "Evaluating RMSE, MAE of algorithm NMF on 5 split(s).\n",
      "\n",
      "                  Fold 1  Fold 2  Fold 3  Fold 4  Fold 5  Mean    Std     \n",
      "RMSE (testset)    0.9627  0.9625  0.9684  0.9670  0.9643  0.9650  0.0024  \n",
      "MAE (testset)     0.7555  0.7558  0.7600  0.7623  0.7608  0.7589  0.0028  \n",
      "Fit time          1.36    1.53    1.25    1.37    1.11    1.32    0.14    \n",
      "Test time         0.11    0.11    0.06    0.06    0.10    0.09    0.02    \n"
     ]
    }
   ],
   "source": [
    "# Модель NMF\n",
    "algo_nmf = NMF()\n",
    "results_nmf = cross_validate(algo_nmf, data, measures=['RMSE', 'MAE'], cv=5, verbose=True)"
   ]
  },
  {
   "cell_type": "code",
   "execution_count": 7,
   "id": "a7936d62-036c-47df-9568-cc80ced1280c",
   "metadata": {},
   "outputs": [
    {
     "data": {
      "text/plain": [
       "{'n_epochs': 5, 'lr_all': 0.005, 'reg_all': 0.4}"
      ]
     },
     "execution_count": 7,
     "metadata": {},
     "output_type": "execute_result"
    }
   ],
   "source": [
    "param_dist = {'n_epochs': [5, 10, 15], 'lr_all': [0.002, 0.005, 0.01],\n",
    "              'reg_all': [0.4, 0.6, 0.8]}\n",
    "\n",
    "random_search = RandomizedSearchCV(SVD, param_distributions=param_dist, measures=['RMSE', 'MAE'], cv=5, n_iter=5)\n",
    "random_search.fit(data)\n",
    "\n",
    "best_params = random_search.best_params['rmse']\n",
    "best_params"
   ]
  },
  {
   "cell_type": "code",
   "execution_count": 8,
   "id": "97219690-c5bf-45c7-8f61-d3b962364efb",
   "metadata": {},
   "outputs": [
    {
     "data": {
      "text/plain": [
       "{'n_epochs': 15, 'lr_all': 0.01, 'reg_all': 0.4}"
      ]
     },
     "execution_count": 8,
     "metadata": {},
     "output_type": "execute_result"
    }
   ],
   "source": [
    "param_grid = {'n_epochs': [5, 10, 15], 'lr_all': [0.002, 0.005, 0.01],\n",
    "              'reg_all': [0.4, 0.6, 0.8]}\n",
    "\n",
    "grid_search = GridSearchCV(SVD, param_grid, measures=['RMSE', 'MAE'], cv=5)\n",
    "grid_search.fit(data)\n",
    "\n",
    "best_params = grid_search.best_params['rmse']\n",
    "best_params"
   ]
  },
  {
   "cell_type": "code",
   "execution_count": null,
   "id": "e1166f08-faa5-4106-a3d0-2a0d454f2c44",
   "metadata": {},
   "outputs": [],
   "source": []
  }
 ],
 "metadata": {
  "kernelspec": {
   "display_name": "Python 3 (ipykernel)",
   "language": "python",
   "name": "python3"
  },
  "language_info": {
   "codemirror_mode": {
    "name": "ipython",
    "version": 3
   },
   "file_extension": ".py",
   "mimetype": "text/x-python",
   "name": "python",
   "nbconvert_exporter": "python",
   "pygments_lexer": "ipython3",
   "version": "3.10.12"
  }
 },
 "nbformat": 4,
 "nbformat_minor": 5
}
