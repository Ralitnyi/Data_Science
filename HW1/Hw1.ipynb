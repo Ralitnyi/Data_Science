{
 "cells": [
  {
   "cell_type": "code",
   "execution_count": 1,
   "id": "a9b8bfa9-fbe0-4acd-8d1c-7a265201c981",
   "metadata": {},
   "outputs": [],
   "source": [
    "import numpy as np"
   ]
  },
  {
   "cell_type": "markdown",
   "id": "5794c0fd-6826-43c6-8b6a-9227a7b30e33",
   "metadata": {},
   "source": [
    "1. Створіть одновимірний масив (вектор) з першими 10-ма натуральними числами та виведіть його значення."
   ]
  },
  {
   "cell_type": "code",
   "execution_count": 2,
   "id": "004338ee-388b-406f-aae1-d481fab95b52",
   "metadata": {},
   "outputs": [],
   "source": [
    "a = np.arange(1, 11)"
   ]
  },
  {
   "cell_type": "code",
   "execution_count": 3,
   "id": "dc07c651-3748-41b4-b2e0-b208aed228dc",
   "metadata": {},
   "outputs": [
    {
     "data": {
      "text/plain": [
       "array([ 1,  2,  3,  4,  5,  6,  7,  8,  9, 10])"
      ]
     },
     "execution_count": 3,
     "metadata": {},
     "output_type": "execute_result"
    }
   ],
   "source": [
    "a"
   ]
  },
  {
   "cell_type": "markdown",
   "id": "1d7fde77-e3ae-441d-924d-fc974fc5feaf",
   "metadata": {},
   "source": [
    "2. Створіть двовимірний масив (матрицю) розміром 3x3, заповніть його нулями та виведіть його значення.\r\n"
   ]
  },
  {
   "cell_type": "code",
   "execution_count": 4,
   "id": "e14a84c5-595f-4622-85fd-b7d92da15fa6",
   "metadata": {},
   "outputs": [
    {
     "data": {
      "text/plain": [
       "array([[0, 0, 0],\n",
       "       [0, 0, 0],\n",
       "       [0, 0, 0]])"
      ]
     },
     "execution_count": 4,
     "metadata": {},
     "output_type": "execute_result"
    }
   ],
   "source": [
    "zero_matrix = np.zeros((3, 3), dtype=\"int\")\n",
    "zero_matrix"
   ]
  },
  {
   "cell_type": "markdown",
   "id": "bcb97575-f4d2-41a8-b781-2468f551a341",
   "metadata": {},
   "source": [
    "3. Створіть масив розміром 5x5, заповніть його випадковими цілими числами в діапазоні від 1 до 10 та виведіть його значення.\r\n"
   ]
  },
  {
   "cell_type": "code",
   "execution_count": 5,
   "id": "33c8e7a4-5aad-4542-821b-8155d1b85f5b",
   "metadata": {},
   "outputs": [
    {
     "data": {
      "text/plain": [
       "array([[ 9,  8,  9,  4,  9],\n",
       "       [ 8,  1,  9,  8,  9],\n",
       "       [10,  5, 10,  5,  4],\n",
       "       [ 3,  1,  9,  1,  3],\n",
       "       [ 2,  7,  6, 10,  4]])"
      ]
     },
     "execution_count": 5,
     "metadata": {},
     "output_type": "execute_result"
    }
   ],
   "source": [
    "random_matrix = np.random.randint(1, 11, (5, 5))\n",
    "random_matrix"
   ]
  },
  {
   "cell_type": "markdown",
   "id": "0b108828-0b69-4ad7-8255-95b67778af4b",
   "metadata": {},
   "source": [
    "4. Створіть масив розміром 4x4, заповніть його випадковими дійсними числами в діапазоні від 0 до 1 та виведіть його значення.\r\n",
    "\r\n"
   ]
  },
  {
   "cell_type": "code",
   "execution_count": 6,
   "id": "55925c8d-1803-453f-8e3d-843b466956d5",
   "metadata": {},
   "outputs": [
    {
     "data": {
      "text/plain": [
       "array([[0.68190984, 0.19662572, 0.44252762, 0.86401268],\n",
       "       [0.76359457, 0.94151713, 0.57696702, 0.20552982],\n",
       "       [0.75447995, 0.82441922, 0.88157399, 0.11432863],\n",
       "       [0.19400229, 0.29843421, 0.61317829, 0.69805976]])"
      ]
     },
     "execution_count": 6,
     "metadata": {},
     "output_type": "execute_result"
    }
   ],
   "source": [
    "random_matrix_0_1 = np.random.random((4, 4))\n",
    "random_matrix_0_1"
   ]
  },
  {
   "cell_type": "markdown",
   "id": "6401a3c7-2b29-4e99-bd66-f9597b7b390f",
   "metadata": {},
   "source": [
    "5. Створіть два одновимірних масиви розміром 5, заповніть їх випадковими цілими числами в діапазоні від 1 до 10 та виконайте на них поелементні операції додавання, віднімання та множення.\r\n",
    "\r\n"
   ]
  },
  {
   "cell_type": "code",
   "execution_count": 7,
   "id": "549b2402-4de1-4114-9ad6-c60e47c71ecc",
   "metadata": {},
   "outputs": [
    {
     "name": "stdout",
     "output_type": "stream",
     "text": [
      "first= [1 5 1 5 8]\n",
      "second= [8 8 2 9 3]\n",
      "plus= [ 9 13  3 14 11]\n",
      "minus= [-7 -3 -1 -4  5]\n",
      "multiplication= [ 8 40  2 45 24]\n"
     ]
    }
   ],
   "source": [
    "first = np.random.randint(1, 11, (5,))\n",
    "second = np.random.randint(1, 11, (5,))\n",
    "print(f'first= {first}')\n",
    "print(f'second= {second}')\n",
    "\n",
    "print('plus=', first + second)\n",
    "print('minus=', first - second)\n",
    "print('multiplication=', first * second)"
   ]
  },
  {
   "cell_type": "markdown",
   "id": "8bc03901-5102-4431-b34a-bc92c78e8a42",
   "metadata": {},
   "source": [
    "6. Створіть два вектори розміром 7, заповніть довільними числами та знайдіть їх скалярний добуток.\n",
    "\n"
   ]
  },
  {
   "cell_type": "code",
   "execution_count": 8,
   "id": "ef4e65e1-053f-421a-938e-109fc16df022",
   "metadata": {},
   "outputs": [
    {
     "name": "stdout",
     "output_type": "stream",
     "text": [
      "1.57252084418269\n"
     ]
    }
   ],
   "source": [
    "first = np.random.random((7,))\n",
    "second = np.random.random((7,))\n",
    "print(np.dot(first, second))"
   ]
  },
  {
   "cell_type": "markdown",
   "id": "6fd636d0-119e-4486-a205-c02f5cb39d49",
   "metadata": {},
   "source": [
    "7. Створіть дві матриці розміром 2x2 та 2x3, заповніть їх випадковими цілими числами в діапазоні від 1 до 10 та перемножте їх між собою.\n",
    "\n"
   ]
  },
  {
   "cell_type": "code",
   "execution_count": 9,
   "id": "0bdb9732-ded4-4957-9124-2ee9af34dbb8",
   "metadata": {},
   "outputs": [
    {
     "data": {
      "text/plain": [
       "array([[52, 88, 80],\n",
       "       [19, 49, 47]])"
      ]
     },
     "execution_count": 9,
     "metadata": {},
     "output_type": "execute_result"
    }
   ],
   "source": [
    "m1 = np.random.randint(1, 11, (2, 2))\n",
    "m2 = np.random.randint(1, 11, (2, 3))\n",
    "np.dot(m1, m2)"
   ]
  },
  {
   "cell_type": "markdown",
   "id": "33baded2-6e18-4eab-90bd-4ff1b06f29e4",
   "metadata": {},
   "source": [
    "8. Створіть матрицю розміром 3x3, заповніть її випадковими цілими числами в діапазоні від 1 до 10 та знайдіть її обернену матрицю.\n",
    "\n"
   ]
  },
  {
   "cell_type": "code",
   "execution_count": 10,
   "id": "53305417-bcba-4d7f-8dbd-11d93e978273",
   "metadata": {},
   "outputs": [
    {
     "data": {
      "text/plain": [
       "array([[ 1. ,  3.2, -1.2],\n",
       "       [ 1. ,  1.8, -0.8],\n",
       "       [-2. , -5.2,  2.2]])"
      ]
     },
     "execution_count": 10,
     "metadata": {},
     "output_type": "execute_result"
    }
   ],
   "source": [
    "matrix = np.random.randint(1, 11, (3, 3))\n",
    "np.linalg.inv(matrix)"
   ]
  },
  {
   "cell_type": "markdown",
   "id": "180a68d6-3118-4b87-8641-bb23e6ae3a8e",
   "metadata": {},
   "source": [
    "9. Створіть матрицю розміром 4x4, заповніть її випадковими дійсними числами в діапазоні від 0 до 1 та транспонуйте її.\n",
    "\n"
   ]
  },
  {
   "cell_type": "code",
   "execution_count": 14,
   "id": "9bc0857e-6f72-4f41-8788-18cb69300ca7",
   "metadata": {},
   "outputs": [
    {
     "data": {
      "text/plain": [
       "array([[0.49374428, 0.55179933, 0.91782141, 0.63902028],\n",
       "       [0.43810798, 0.09114714, 0.79997834, 0.96593351],\n",
       "       [0.94453714, 0.69221274, 0.75941192, 0.85132319],\n",
       "       [0.87975555, 0.23088242, 0.70396838, 0.95620415]])"
      ]
     },
     "execution_count": 14,
     "metadata": {},
     "output_type": "execute_result"
    }
   ],
   "source": [
    "matrix = np.random.random((4, 4))\n",
    "matrix.T"
   ]
  },
  {
   "cell_type": "markdown",
   "id": "158b831a-0841-404e-a4a9-a0a65b657923",
   "metadata": {},
   "source": [
    "10. Створіть матрицю розміром 3x4 та вектор розміром 4, заповніть їх випадковими цілими числами в діапазоні від 1 до 10 та перемножте матрицю на вектор.\n",
    "\n"
   ]
  },
  {
   "cell_type": "code",
   "execution_count": 15,
   "id": "8b01ab09-cc69-485f-9fbb-0757a62dd092",
   "metadata": {},
   "outputs": [
    {
     "data": {
      "text/plain": [
       "array([145, 163, 159])"
      ]
     },
     "execution_count": 15,
     "metadata": {},
     "output_type": "execute_result"
    }
   ],
   "source": [
    "matrix = np.random.randint(1, 11, (3, 4))\n",
    "vector = np.random.randint(1, 11, (4, ))\n",
    "np.dot(matrix, vector)"
   ]
  },
  {
   "cell_type": "markdown",
   "id": "9ebf1bca-a110-4581-9249-681dcdb4484b",
   "metadata": {},
   "source": [
    "11. Створіть матрицю розміром 2x3 та вектор розміром 3, заповніть їх випадковими дійсними числами в діапазоні від 0 до 1 та перемножте матрицю на вектор.\n",
    "\n"
   ]
  },
  {
   "cell_type": "code",
   "execution_count": null,
   "id": "09498c32-d621-4a17-8d64-16072c504b97",
   "metadata": {},
   "outputs": [],
   "source": [
    "matrix = np.random.random((3, 4))\n",
    "vector = np.random.random((4, ))\n",
    "np.dot(matrix, vector)"
   ]
  },
  {
   "cell_type": "markdown",
   "id": "f9fcd6a6-0b91-4b57-9aec-fe733b6370da",
   "metadata": {},
   "source": [
    "12. Створіть дві матриці розміром 2x2, заповніть їх випадковими цілими числами в діапазоні від 1 до 10 та виконайте їхнє поелементне множення.\n",
    "\n"
   ]
  },
  {
   "cell_type": "code",
   "execution_count": 23,
   "id": "2f950aa6-a90d-47d4-85ff-7e852876015b",
   "metadata": {},
   "outputs": [
    {
     "data": {
      "text/plain": [
       "array([[50, 60],\n",
       "       [21, 35]])"
      ]
     },
     "execution_count": 23,
     "metadata": {},
     "output_type": "execute_result"
    }
   ],
   "source": [
    "m1 = np.random.randint(1, 11, (2, 2))\n",
    "m2 = np.random.randint(1, 11, (2, 2))\n",
    "m1 * m2"
   ]
  },
  {
   "cell_type": "markdown",
   "id": "152bddb5-6bb5-4697-b738-e1c094d86398",
   "metadata": {},
   "source": [
    "13. Створіть дві матриці розміром 2x2, заповніть їх випадковими цілими числами в діапазоні від 1 до 10 та знайдіть їх добуток.\n",
    "\n"
   ]
  },
  {
   "cell_type": "code",
   "execution_count": 25,
   "id": "4500776a-483f-4018-878c-97fc2fe9ca1f",
   "metadata": {},
   "outputs": [
    {
     "data": {
      "text/plain": [
       "array([[72, 14],\n",
       "       [94, 18]])"
      ]
     },
     "execution_count": 25,
     "metadata": {},
     "output_type": "execute_result"
    }
   ],
   "source": [
    "m1 = np.random.randint(1, 11, (2, 2))\n",
    "m2 = np.random.randint(1, 11, (2, 2))\n",
    "np.dot(m1, m2)"
   ]
  },
  {
   "cell_type": "markdown",
   "id": "08c956a6-b7c4-4c6a-930e-95505b139646",
   "metadata": {},
   "source": [
    "14. Створіть матрицю розміром 5x5, заповніть її випадковими цілими числами в діапазоні від 1 до 100 та знайдіть суму елементів матриці.\n",
    "\n"
   ]
  },
  {
   "cell_type": "code",
   "execution_count": 26,
   "id": "a48e629d-7651-4ccd-89e2-8754ac005132",
   "metadata": {},
   "outputs": [
    {
     "data": {
      "text/plain": [
       "1425"
      ]
     },
     "execution_count": 26,
     "metadata": {},
     "output_type": "execute_result"
    }
   ],
   "source": [
    "matrix = np.random.randint(1, 101, (5, 5))\n",
    "np.sum(matrix)"
   ]
  },
  {
   "cell_type": "markdown",
   "id": "c880f283-e73a-47a6-84d5-12e4bf0ff988",
   "metadata": {},
   "source": [
    "15. Створіть дві матриці розміром 4x4, заповніть їх випадковими цілими числами в діапазоні від 1 до 10 та знайдіть їхню різницю.\n",
    "\n"
   ]
  },
  {
   "cell_type": "code",
   "execution_count": 27,
   "id": "fbb44b52-2946-43de-8e04-086c00c5362f",
   "metadata": {},
   "outputs": [
    {
     "data": {
      "text/plain": [
       "array([[ 5, -2, -3, -1],\n",
       "       [-3,  0, -1,  1],\n",
       "       [-1, -8,  2, -4],\n",
       "       [ 3,  2,  5,  2]])"
      ]
     },
     "execution_count": 27,
     "metadata": {},
     "output_type": "execute_result"
    }
   ],
   "source": [
    "m1 = np.random.randint(1, 11, (4, 4))\n",
    "m2 = np.random.randint(1, 11, (4, 4))\n",
    "m1 - m2"
   ]
  },
  {
   "cell_type": "markdown",
   "id": "8f6c9610-9566-441c-a8cc-50ab992ad098",
   "metadata": {},
   "source": [
    "16. Створіть матрицю розміром 3x3, заповніть її випадковими дійсними числами в діапазоні від 0 до 1 та знайдіть вектор-стовпчик, що містить суму елементів кожного рядка матриці.\n",
    "\n"
   ]
  },
  {
   "cell_type": "code",
   "execution_count": 30,
   "id": "32f9e271-2f4e-4d3c-830c-354ec38eadab",
   "metadata": {},
   "outputs": [
    {
     "data": {
      "text/plain": [
       "array([[1.65221735],\n",
       "       [2.28833317],\n",
       "       [0.72650746]])"
      ]
     },
     "execution_count": 30,
     "metadata": {},
     "output_type": "execute_result"
    }
   ],
   "source": [
    "matrix = np.random.rand(3, 3)\n",
    "np.sum(matrix, axis=1, keepdims=True)"
   ]
  },
  {
   "cell_type": "markdown",
   "id": "2fc3378e-504e-4b80-9e56-d6aaa740effd",
   "metadata": {},
   "source": [
    "17. Створіть матрицю розміром 3x4 з довільними цілими числами і створінь матрицю з квадратами цих чисел.\n",
    "\n"
   ]
  },
  {
   "cell_type": "code",
   "execution_count": 36,
   "id": "ee33b4fe-e6ad-4278-86c6-9ed4ce1730d2",
   "metadata": {},
   "outputs": [
    {
     "data": {
      "text/plain": [
       "array([[81,  1, 81, 64],\n",
       "       [ 9,  9, 36,  1],\n",
       "       [36,  4,  4, 49]])"
      ]
     },
     "execution_count": 36,
     "metadata": {},
     "output_type": "execute_result"
    }
   ],
   "source": [
    "matrix = np.random.randint(1, 11, (3, 4))\n",
    "matrix ** 2"
   ]
  },
  {
   "cell_type": "markdown",
   "id": "2af01ad2-b05d-40d4-bb14-b0559f3962e0",
   "metadata": {},
   "source": [
    "18. Створіть вектор розміром 4, заповніть його випадковими цілими числами в діапазоні від 1 до 50 та знайдіть вектор з квадратними коренями цих чисел.\n",
    "\n"
   ]
  },
  {
   "cell_type": "code",
   "execution_count": 58,
   "id": "f4e44a8c-a16d-41a6-9924-5e79d9e728a2",
   "metadata": {},
   "outputs": [
    {
     "data": {
      "text/plain": [
       "array([6.8556546 , 7.07106781, 2.82842712, 6.        ])"
      ]
     },
     "execution_count": 58,
     "metadata": {},
     "output_type": "execute_result"
    }
   ],
   "source": [
    "vector = np.random.randint(1, 51, (4, ))\n",
    "np.sqrt(vector)"
   ]
  }
 ],
 "metadata": {
  "kernelspec": {
   "display_name": "Python 3 (ipykernel)",
   "language": "python",
   "name": "python3"
  },
  "language_info": {
   "codemirror_mode": {
    "name": "ipython",
    "version": 3
   },
   "file_extension": ".py",
   "mimetype": "text/x-python",
   "name": "python",
   "nbconvert_exporter": "python",
   "pygments_lexer": "ipython3",
   "version": "3.11.1"
  }
 },
 "nbformat": 4,
 "nbformat_minor": 5
}
