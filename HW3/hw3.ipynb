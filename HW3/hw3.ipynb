{
 "cells": [
  {
   "cell_type": "code",
   "execution_count": 1,
   "id": "71bf97bf-9b6f-4a8c-811c-35bf11920508",
   "metadata": {},
   "outputs": [],
   "source": [
    "import numpy as np\n",
    "import pandas as pd\n",
    "import matplotlib.pyplot as plt"
   ]
  },
  {
   "cell_type": "code",
   "execution_count": 2,
   "id": "2fb14a17-385b-4044-b0c6-8dd2b45f614d",
   "metadata": {},
   "outputs": [
    {
     "name": "stdout",
     "output_type": "stream",
     "text": [
      "      price  area  bedrooms  bathrooms  stories mainroad guestroom basement  \\\n",
      "0  13300000  7420         4          2        3      yes        no       no   \n",
      "1  12250000  8960         4          4        4      yes        no       no   \n",
      "2  12250000  9960         3          2        2      yes        no      yes   \n",
      "3  12215000  7500         4          2        2      yes        no      yes   \n",
      "4  11410000  7420         4          1        2      yes       yes      yes   \n",
      "\n",
      "  hotwaterheating airconditioning  parking prefarea furnishingstatus  \n",
      "0              no             yes        2      yes        furnished  \n",
      "1              no             yes        3       no        furnished  \n",
      "2              no              no        2      yes   semi-furnished  \n",
      "3              no             yes        3      yes        furnished  \n",
      "4              no             yes        2       no        furnished  \n",
      "df.shape=(545, 13)\n"
     ]
    }
   ],
   "source": [
    "df = pd.read_csv('Housing.csv')\n",
    "print(df.head())\n",
    "print(f'{df.shape=}')"
   ]
  },
  {
   "cell_type": "code",
   "execution_count": 3,
   "id": "496c5e6c-b971-4dfc-ba11-1063b791896e",
   "metadata": {},
   "outputs": [],
   "source": [
    "def normalization(data):\n",
    "    mean = np.mean(data)\n",
    "    value_range = max(data) - min(data)\n",
    "    \n",
    "    result = []\n",
    "    for i in data:\n",
    "        result.append((i-mean)/value_range)\n",
    "    return result"
   ]
  },
  {
   "cell_type": "code",
   "execution_count": 4,
   "id": "f3785adf-d117-4c44-bb68-3174d8cbff09",
   "metadata": {},
   "outputs": [
    {
     "data": {
      "text/html": [
       "<div>\n",
       "<style scoped>\n",
       "    .dataframe tbody tr th:only-of-type {\n",
       "        vertical-align: middle;\n",
       "    }\n",
       "\n",
       "    .dataframe tbody tr th {\n",
       "        vertical-align: top;\n",
       "    }\n",
       "\n",
       "    .dataframe thead th {\n",
       "        text-align: right;\n",
       "    }\n",
       "</style>\n",
       "<table border=\"1\" class=\"dataframe\">\n",
       "  <thead>\n",
       "    <tr style=\"text-align: right;\">\n",
       "      <th></th>\n",
       "      <th>price</th>\n",
       "      <th>bedrooms</th>\n",
       "      <th>bathrooms</th>\n",
       "      <th>area</th>\n",
       "    </tr>\n",
       "  </thead>\n",
       "  <tbody>\n",
       "    <tr>\n",
       "      <th>540</th>\n",
       "      <td>-0.255128</td>\n",
       "      <td>-0.193028</td>\n",
       "      <td>-0.095413</td>\n",
       "      <td>-0.147804</td>\n",
       "    </tr>\n",
       "    <tr>\n",
       "      <th>541</th>\n",
       "      <td>-0.259704</td>\n",
       "      <td>0.006972</td>\n",
       "      <td>-0.095413</td>\n",
       "      <td>-0.189041</td>\n",
       "    </tr>\n",
       "    <tr>\n",
       "      <th>542</th>\n",
       "      <td>-0.261189</td>\n",
       "      <td>-0.193028</td>\n",
       "      <td>-0.095413</td>\n",
       "      <td>-0.105192</td>\n",
       "    </tr>\n",
       "    <tr>\n",
       "      <th>543</th>\n",
       "      <td>-0.261189</td>\n",
       "      <td>0.006972</td>\n",
       "      <td>-0.095413</td>\n",
       "      <td>-0.153989</td>\n",
       "    </tr>\n",
       "    <tr>\n",
       "      <th>544</th>\n",
       "      <td>-0.261189</td>\n",
       "      <td>0.006972</td>\n",
       "      <td>-0.095413</td>\n",
       "      <td>-0.089384</td>\n",
       "    </tr>\n",
       "  </tbody>\n",
       "</table>\n",
       "</div>"
      ],
      "text/plain": [
       "        price  bedrooms  bathrooms      area\n",
       "540 -0.255128 -0.193028  -0.095413 -0.147804\n",
       "541 -0.259704  0.006972  -0.095413 -0.189041\n",
       "542 -0.261189 -0.193028  -0.095413 -0.105192\n",
       "543 -0.261189  0.006972  -0.095413 -0.153989\n",
       "544 -0.261189  0.006972  -0.095413 -0.089384"
      ]
     },
     "execution_count": 4,
     "metadata": {},
     "output_type": "execute_result"
    }
   ],
   "source": [
    "norm = pd.DataFrame()\n",
    "norm['price'] = normalization(df['price'])\n",
    "norm['bedrooms'] = normalization(df['bedrooms'])\n",
    "norm['bathrooms'] = normalization(df['bathrooms'])\n",
    "norm['area'] = normalization(df['area'])\n",
    "norm.tail()"
   ]
  },
  {
   "cell_type": "markdown",
   "id": "983567dd-0c17-4f69-8d3b-71186f54adf8",
   "metadata": {},
   "source": [
    "напишіть функцію гіпотези лінійної регресії у векторному вигляді;"
   ]
  },
  {
   "cell_type": "code",
   "execution_count": 5,
   "id": "f40fe598-d09b-4fe2-8aa3-100432a01345",
   "metadata": {},
   "outputs": [],
   "source": [
    "def hypothesis(X, w):\n",
    "    return np.dot(X, w)"
   ]
  },
  {
   "cell_type": "markdown",
   "id": "db3e5786-a4b4-48ea-956d-e87850a0769c",
   "metadata": {},
   "source": [
    "створіть функцію для обчислення функції втрат у векторному вигляді;"
   ]
  },
  {
   "cell_type": "code",
   "execution_count": 6,
   "id": "cbef5f82-c09e-4fcd-a26f-c0967a5625d4",
   "metadata": {},
   "outputs": [],
   "source": [
    "def loss_function(X, y, w):\n",
    "    m = len(y)\n",
    "    h = hypothesis(X, w)\n",
    "    return (1/(2*m)) * np.sum((h - y)**2)"
   ]
  },
  {
   "cell_type": "markdown",
   "id": "51d7562d-fcb5-4be5-822e-543be3929a1e",
   "metadata": {},
   "source": [
    "реалізуйте один крок градієнтного спуску;"
   ]
  },
  {
   "cell_type": "code",
   "execution_count": 7,
   "id": "143e17c1-9799-4312-ac71-9b3b62b2d911",
   "metadata": {},
   "outputs": [],
   "source": [
    "def gradient_descent_step(X, y, w, learning_rate):\n",
    "    m = len(y)\n",
    "    h = hypothesis(X, w)\n",
    "    gradient = (1/m) * np.dot(X.T, (h - y))\n",
    "    w = w - learning_rate * gradient\n",
    "    return w"
   ]
  },
  {
   "cell_type": "markdown",
   "id": "816f099a-651a-484d-bfa9-80352e84ca4b",
   "metadata": {},
   "source": [
    "знайдіть найкращі параметри $\\vec{w}$ для датасету прогнозуючу ціну на будинок залежно від площі, кількості ванних кімнат та кількості спалень;"
   ]
  },
  {
   "cell_type": "code",
   "execution_count": 8,
   "id": "d8a3edf4-c7b4-4db5-88dc-117bb0624ad7",
   "metadata": {},
   "outputs": [],
   "source": [
    "def grad_descent(X, y, w, learning_rate=0.01, num_iterations=4000):\n",
    "    \n",
    "    for i in range(num_iterations):\n",
    "        w = gradient_descent_step(X, y, w, learning_rate)\n",
    "    return w\n"
   ]
  },
  {
   "cell_type": "code",
   "execution_count": 9,
   "id": "6148bdc9-3200-44b9-9cff-bba3d8e296ba",
   "metadata": {},
   "outputs": [
    {
     "name": "stdout",
     "output_type": "stream",
     "text": [
      "0.007185845135169099\n",
      "Оптимальні параметри w: [4.46085574e-17 3.06738882e-01 1.66794846e-01 2.86068587e-01] перша спроба\n",
      "0.006767364361337426\n",
      "Оптимальні параметри w: [4.83074335e-17 4.10496168e-01 1.89359329e-01 3.45777107e-01]\n",
      "0.006722393301433987\n",
      "Оптимальні параметри w: [4.91895006e-17 4.49412886e-01 1.86864188e-01 3.57378323e-01] остання спроба\n"
     ]
    }
   ],
   "source": [
    "X = norm[['area', 'bedrooms', 'bathrooms']]\n",
    "y = norm['price']\n",
    "# Додаємо стовпець одиниць для w0\n",
    "X = np.c_[np.ones(len(X)), X]\n",
    "\n",
    "# Ініціалізуємо вектор параметрів w\n",
    "w = np.zeros(X.shape[1])\n",
    "w = grad_descent(X, y, w)\n",
    "print(loss_function(X, y, w))\n",
    "print(\"Оптимальні параметри w:\", w, \"перша спроба\")\n",
    "\n",
    "w2 = grad_descent(X, y, w)\n",
    "print(loss_function(X, y, w2))\n",
    "print(\"Оптимальні параметри w:\", w2)\n",
    "w3 = grad_descent(X, y, w2)\n",
    "print(loss_function(X, y, w3))\n",
    "w3\n",
    "print(\"Оптимальні параметри w:\", w3, \"остання спроба\")"
   ]
  },
  {
   "cell_type": "markdown",
   "id": "ec7f5767-bed6-4824-b57e-fbbce50058cf",
   "metadata": {},
   "source": [
    "знайдіть ці ж параметри за допомогою аналітичного рішення;"
   ]
  },
  {
   "cell_type": "code",
   "execution_count": 10,
   "id": "3f271ef4-f879-4689-8599-17d7716e3cb2",
   "metadata": {},
   "outputs": [
    {
     "name": "stdout",
     "output_type": "stream",
     "text": [
      "Оптимальні параметри w (аналітичне рішення): [1.81175091e-17 4.77142690e-01 1.76112569e-01 3.60012857e-01]\n"
     ]
    }
   ],
   "source": [
    "w_analytical = np.linalg.inv(X.T @ X) @ X.T @ y\n",
    "print(\"Оптимальні параметри w (аналітичне рішення):\", w_analytical)"
   ]
  },
  {
   "cell_type": "markdown",
   "id": "a2ecb8eb-ef26-47e6-9096-96261436b687",
   "metadata": {},
   "source": [
    "порівняйте отримані результати."
   ]
  },
  {
   "cell_type": "code",
   "execution_count": 11,
   "id": "cf6cbc8d-02c0-4d62-b8ff-b5568b1b97d5",
   "metadata": {},
   "outputs": [
    {
     "name": "stdout",
     "output_type": "stream",
     "text": [
      "Функція втрат (градієнтний спуск): 0.006722393301433987\n",
      "Функція втрат (аналітичне рішення): 0.006713405108514904\n"
     ]
    }
   ],
   "source": [
    "loss_gradient_descent = loss_function(X, y, w3)\n",
    "loss_analytical_solution = loss_function(X, y, w_analytical)\n",
    "\n",
    "print(\"Функція втрат (градієнтний спуск):\", loss_gradient_descent)\n",
    "print(\"Функція втрат (аналітичне рішення):\", loss_analytical_solution)"
   ]
  },
  {
   "cell_type": "markdown",
   "id": "10534502-3e9d-4a5b-bfeb-e644f04503a3",
   "metadata": {},
   "source": [
    "### Scikit-learn"
   ]
  },
  {
   "cell_type": "code",
   "execution_count": 12,
   "id": "b9111756-f457-480e-911c-c3d11f2d5061",
   "metadata": {},
   "outputs": [],
   "source": [
    "from sklearn import linear_model"
   ]
  },
  {
   "cell_type": "code",
   "execution_count": 13,
   "id": "888b6721-3280-4ec2-a768-054299c96ae8",
   "metadata": {},
   "outputs": [],
   "source": [
    "model = linear_model.LinearRegression()"
   ]
  },
  {
   "cell_type": "code",
   "execution_count": 14,
   "id": "4d746362-7ead-4b11-aef8-4dab465db0fd",
   "metadata": {},
   "outputs": [
    {
     "data": {
      "text/plain": [
       "(545, 3)"
      ]
     },
     "execution_count": 14,
     "metadata": {},
     "output_type": "execute_result"
    }
   ],
   "source": [
    "X = np.array([norm.area, norm.bedrooms, norm.bathrooms]).T\n",
    "X.shape"
   ]
  },
  {
   "cell_type": "code",
   "execution_count": 15,
   "id": "74bec4ce-db52-411d-8ae3-1a56659d756e",
   "metadata": {},
   "outputs": [
    {
     "data": {
      "text/plain": [
       "(545,)"
      ]
     },
     "execution_count": 15,
     "metadata": {},
     "output_type": "execute_result"
    }
   ],
   "source": [
    "y = np.array(norm.price)\n",
    "y.shape"
   ]
  },
  {
   "cell_type": "code",
   "execution_count": 16,
   "id": "70953f4a-7f11-418d-941a-6e4f5e947189",
   "metadata": {},
   "outputs": [
    {
     "data": {
      "text/html": [
       "<style>#sk-container-id-1 {color: black;}#sk-container-id-1 pre{padding: 0;}#sk-container-id-1 div.sk-toggleable {background-color: white;}#sk-container-id-1 label.sk-toggleable__label {cursor: pointer;display: block;width: 100%;margin-bottom: 0;padding: 0.3em;box-sizing: border-box;text-align: center;}#sk-container-id-1 label.sk-toggleable__label-arrow:before {content: \"▸\";float: left;margin-right: 0.25em;color: #696969;}#sk-container-id-1 label.sk-toggleable__label-arrow:hover:before {color: black;}#sk-container-id-1 div.sk-estimator:hover label.sk-toggleable__label-arrow:before {color: black;}#sk-container-id-1 div.sk-toggleable__content {max-height: 0;max-width: 0;overflow: hidden;text-align: left;background-color: #f0f8ff;}#sk-container-id-1 div.sk-toggleable__content pre {margin: 0.2em;color: black;border-radius: 0.25em;background-color: #f0f8ff;}#sk-container-id-1 input.sk-toggleable__control:checked~div.sk-toggleable__content {max-height: 200px;max-width: 100%;overflow: auto;}#sk-container-id-1 input.sk-toggleable__control:checked~label.sk-toggleable__label-arrow:before {content: \"▾\";}#sk-container-id-1 div.sk-estimator input.sk-toggleable__control:checked~label.sk-toggleable__label {background-color: #d4ebff;}#sk-container-id-1 div.sk-label input.sk-toggleable__control:checked~label.sk-toggleable__label {background-color: #d4ebff;}#sk-container-id-1 input.sk-hidden--visually {border: 0;clip: rect(1px 1px 1px 1px);clip: rect(1px, 1px, 1px, 1px);height: 1px;margin: -1px;overflow: hidden;padding: 0;position: absolute;width: 1px;}#sk-container-id-1 div.sk-estimator {font-family: monospace;background-color: #f0f8ff;border: 1px dotted black;border-radius: 0.25em;box-sizing: border-box;margin-bottom: 0.5em;}#sk-container-id-1 div.sk-estimator:hover {background-color: #d4ebff;}#sk-container-id-1 div.sk-parallel-item::after {content: \"\";width: 100%;border-bottom: 1px solid gray;flex-grow: 1;}#sk-container-id-1 div.sk-label:hover label.sk-toggleable__label {background-color: #d4ebff;}#sk-container-id-1 div.sk-serial::before {content: \"\";position: absolute;border-left: 1px solid gray;box-sizing: border-box;top: 0;bottom: 0;left: 50%;z-index: 0;}#sk-container-id-1 div.sk-serial {display: flex;flex-direction: column;align-items: center;background-color: white;padding-right: 0.2em;padding-left: 0.2em;position: relative;}#sk-container-id-1 div.sk-item {position: relative;z-index: 1;}#sk-container-id-1 div.sk-parallel {display: flex;align-items: stretch;justify-content: center;background-color: white;position: relative;}#sk-container-id-1 div.sk-item::before, #sk-container-id-1 div.sk-parallel-item::before {content: \"\";position: absolute;border-left: 1px solid gray;box-sizing: border-box;top: 0;bottom: 0;left: 50%;z-index: -1;}#sk-container-id-1 div.sk-parallel-item {display: flex;flex-direction: column;z-index: 1;position: relative;background-color: white;}#sk-container-id-1 div.sk-parallel-item:first-child::after {align-self: flex-end;width: 50%;}#sk-container-id-1 div.sk-parallel-item:last-child::after {align-self: flex-start;width: 50%;}#sk-container-id-1 div.sk-parallel-item:only-child::after {width: 0;}#sk-container-id-1 div.sk-dashed-wrapped {border: 1px dashed gray;margin: 0 0.4em 0.5em 0.4em;box-sizing: border-box;padding-bottom: 0.4em;background-color: white;}#sk-container-id-1 div.sk-label label {font-family: monospace;font-weight: bold;display: inline-block;line-height: 1.2em;}#sk-container-id-1 div.sk-label-container {text-align: center;}#sk-container-id-1 div.sk-container {/* jupyter's `normalize.less` sets `[hidden] { display: none; }` but bootstrap.min.css set `[hidden] { display: none !important; }` so we also need the `!important` here to be able to override the default hidden behavior on the sphinx rendered scikit-learn.org. See: https://github.com/scikit-learn/scikit-learn/issues/21755 */display: inline-block !important;position: relative;}#sk-container-id-1 div.sk-text-repr-fallback {display: none;}</style><div id=\"sk-container-id-1\" class=\"sk-top-container\"><div class=\"sk-text-repr-fallback\"><pre>LinearRegression()</pre><b>In a Jupyter environment, please rerun this cell to show the HTML representation or trust the notebook. <br />On GitHub, the HTML representation is unable to render, please try loading this page with nbviewer.org.</b></div><div class=\"sk-container\" hidden><div class=\"sk-item\"><div class=\"sk-estimator sk-toggleable\"><input class=\"sk-toggleable__control sk-hidden--visually\" id=\"sk-estimator-id-1\" type=\"checkbox\" checked><label for=\"sk-estimator-id-1\" class=\"sk-toggleable__label sk-toggleable__label-arrow\">LinearRegression</label><div class=\"sk-toggleable__content\"><pre>LinearRegression()</pre></div></div></div></div></div>"
      ],
      "text/plain": [
       "LinearRegression()"
      ]
     },
     "execution_count": 16,
     "metadata": {},
     "output_type": "execute_result"
    }
   ],
   "source": [
    "model.fit(X, y)"
   ]
  },
  {
   "cell_type": "code",
   "execution_count": 17,
   "id": "c5b0105d-415a-4c65-8cfb-f57e3d032a08",
   "metadata": {},
   "outputs": [
    {
     "data": {
      "text/plain": [
       "array([0.47714269, 0.17611257, 0.36001286])"
      ]
     },
     "execution_count": 17,
     "metadata": {},
     "output_type": "execute_result"
    }
   ],
   "source": [
    "model.coef_"
   ]
  },
  {
   "cell_type": "code",
   "execution_count": 18,
   "id": "8e1c2270-fb51-469e-ae97-a78b1577a47d",
   "metadata": {},
   "outputs": [
    {
     "data": {
      "text/plain": [
       "7.014204135081996e-17"
      ]
     },
     "execution_count": 18,
     "metadata": {},
     "output_type": "execute_result"
    }
   ],
   "source": [
    "model.intercept_"
   ]
  },
  {
   "cell_type": "code",
   "execution_count": 19,
   "id": "9c380d13-df84-4087-b23c-7c0eecb2b07a",
   "metadata": {},
   "outputs": [
    {
     "name": "stdout",
     "output_type": "stream",
     "text": [
      "scikit-learn: [0.47714269 0.17611257 0.36001286] \n",
      "loss 0.006713405108514905\n",
      "my model: [0.44941289 0.18686419 0.35737832] \n",
      "loss 0.006722393301433987\n",
      "analytical solution: [0.47714269 0.17611257 0.36001286] \n",
      "loss 0.006713405108514905\n"
     ]
    }
   ],
   "source": [
    "print('scikit-learn:', model.coef_, '\\nloss', loss_function(X, y, model.coef_))\n",
    "print('my model:', w3[1:], '\\nloss', loss_function(X, y, w3[1:]))\n",
    "print('analytical solution:', w_analytical[1:], '\\nloss', loss_function(X, y, w_analytical[1:]))"
   ]
  },
  {
   "cell_type": "code",
   "execution_count": null,
   "id": "be8b1aac-e22a-4395-96ad-a4a33e7987db",
   "metadata": {},
   "outputs": [],
   "source": []
  }
 ],
 "metadata": {
  "kernelspec": {
   "display_name": "Python 3 (ipykernel)",
   "language": "python",
   "name": "python3"
  },
  "language_info": {
   "codemirror_mode": {
    "name": "ipython",
    "version": 3
   },
   "file_extension": ".py",
   "mimetype": "text/x-python",
   "name": "python",
   "nbconvert_exporter": "python",
   "pygments_lexer": "ipython3",
   "version": "3.10.12"
  }
 },
 "nbformat": 4,
 "nbformat_minor": 5
}
