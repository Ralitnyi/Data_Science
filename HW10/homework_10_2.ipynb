{
 "cells": [
  {
   "cell_type": "code",
   "execution_count": 24,
   "id": "7acc9e0d-1813-405e-81c2-8e330661fc60",
   "metadata": {},
   "outputs": [],
   "source": [
    "import pandas as pd\n",
    "import numpy as np\n",
    "import tensorflow as tf\n",
    "import matplotlib.pyplot as plt\n",
    "\n",
    "from keras.applications.vgg16 import VGG16\n",
    "from keras.datasets import fashion_mnist\n",
    "from keras.utils import to_categorical\n",
    "from keras.layers import Flatten, Dense\n",
    "from keras.models import Sequential\n",
    "from keras.optimizers import Adam"
   ]
  },
  {
   "cell_type": "code",
   "execution_count": 2,
   "id": "926621d8-a4f7-4fa6-b838-f63feec016f3",
   "metadata": {},
   "outputs": [
    {
     "name": "stdout",
     "output_type": "stream",
     "text": [
      "x_train original shape (60000, 28, 28)\n",
      "y_train original shape (60000,)\n",
      "x_test original shape (10000, 28, 28)\n",
      "y_test original shape (10000,)\n"
     ]
    }
   ],
   "source": [
    "# Завантажуємо датасет\n",
    "(x_train, y_train), (x_test, y_test) = fashion_mnist.load_data()\n",
    "print(\"x_train original shape\", x_train.shape)\n",
    "print(\"y_train original shape\", y_train.shape)\n",
    "print(\"x_test original shape\", x_test.shape)\n",
    "print(\"y_test original shape\", y_test.shape)"
   ]
  },
  {
   "cell_type": "code",
   "execution_count": 3,
   "id": "5c7bb445-3fbb-4c63-a548-1b94aad8186b",
   "metadata": {},
   "outputs": [
    {
     "name": "stderr",
     "output_type": "stream",
     "text": [
      "2024-02-17 18:20:55.708740: E external/local_xla/xla/stream_executor/cuda/cuda_driver.cc:274] failed call to cuInit: CUDA_ERROR_COMPAT_NOT_SUPPORTED_ON_DEVICE: forward compatibility was attempted on non supported HW\n",
      "2024-02-17 18:20:55.708788: I external/local_xla/xla/stream_executor/cuda/cuda_diagnostics.cc:129] retrieving CUDA diagnostic information for host: ivan-Nitro-AN515-45\n",
      "2024-02-17 18:20:55.708807: I external/local_xla/xla/stream_executor/cuda/cuda_diagnostics.cc:136] hostname: ivan-Nitro-AN515-45\n",
      "2024-02-17 18:20:55.709121: I external/local_xla/xla/stream_executor/cuda/cuda_diagnostics.cc:159] libcuda reported version is: 525.147.5\n",
      "2024-02-17 18:20:55.709158: I external/local_xla/xla/stream_executor/cuda/cuda_diagnostics.cc:163] kernel reported version is: 470.223.2\n",
      "2024-02-17 18:20:55.709166: E external/local_xla/xla/stream_executor/cuda/cuda_diagnostics.cc:244] kernel version 470.223.2 does not match DSO version 525.147.5 -- cannot find working devices in this configuration\n",
      "2024-02-17 18:20:55.808063: W external/local_tsl/tsl/framework/cpu_allocator_impl.cc:83] Allocation of 245760000 exceeds 10% of free system memory.\n"
     ]
    }
   ],
   "source": [
    "# Змінюємо розмір зображень на 32*32 відповідно до вимог VGG16\n",
    "x_train = tf.image.resize(np.array(x_train)[..., tf.newaxis], (32, 32))\n",
    "x_train = np.repeat(x_train, 3, axis=-1)\n",
    "x_test = tf.image.resize(np.array(x_test)[..., tf.newaxis], (32, 32))\n",
    "x_test = np.repeat(x_test, 3, axis=-1)\n",
    "\n",
    "# Змінюємо значення пікселів з (0, 255) до (0, 1)\n",
    "x_train = np.array(x_train) / 255.0\n",
    "x_test = np.array(x_test) / 255.0\n",
    "     "
   ]
  },
  {
   "cell_type": "code",
   "execution_count": 4,
   "id": "55e0e796-f1d8-4d27-9ca1-9ca59297dab2",
   "metadata": {},
   "outputs": [
    {
     "data": {
      "text/plain": [
       "((60000, 32, 32, 3), (10000, 32, 32, 3))"
      ]
     },
     "execution_count": 4,
     "metadata": {},
     "output_type": "execute_result"
    }
   ],
   "source": [
    "# перевіряємо оновлений розмір датасету\n",
    "x_train.shape, x_test.shape\n",
    "     "
   ]
  },
  {
   "cell_type": "code",
   "execution_count": 5,
   "id": "ecb141bf-a6f8-4195-976b-ba52d40cd996",
   "metadata": {},
   "outputs": [],
   "source": [
    "# Конвертація Labels в інший формат (one hot encoded)\n",
    "y_train = to_categorical(y_train, 10)\n",
    "y_test = to_categorical(y_test, 10)"
   ]
  },
  {
   "cell_type": "code",
   "execution_count": 6,
   "id": "2551bb8a-f803-41a5-84f8-442881ef9ced",
   "metadata": {},
   "outputs": [],
   "source": [
    "# Створюємо основу згортки на базі VGG16\n",
    "conv_base = VGG16(weights='imagenet', include_top=False, input_shape=(32, 32, 3))\n",
    "# Відключємо навчання шару\n",
    "conv_base.trainable = False"
   ]
  },
  {
   "cell_type": "code",
   "execution_count": 19,
   "id": "9153deb1-ff3b-4dae-a03a-48617ea282e0",
   "metadata": {},
   "outputs": [],
   "source": [
    "# Створюємо згорткову нейромережу, що використовує VGG16 як згортковий шар\n",
    "model = Sequential()\n",
    "model.add(conv_base)\n",
    "model.add(Flatten())\n",
    "model.add(Dense(256, activation=\"relu\"))\n",
    "model.add(Dense(10, activation=\"softmax\"))"
   ]
  },
  {
   "cell_type": "code",
   "execution_count": 25,
   "id": "5dfe4dd7-791e-4065-a35d-0cbc1787f94c",
   "metadata": {},
   "outputs": [],
   "source": [
    "# Компілюємо модель (підгонка терезів нейромережі)\n",
    "model.compile(optimizer=Adam(),\n",
    "              loss='categorical_crossentropy',\n",
    "              metrics=['accuracy']\n",
    "              )"
   ]
  },
  {
   "cell_type": "code",
   "execution_count": 26,
   "id": "5f8dd1d5-2cda-4fea-ae6f-505c08898a4c",
   "metadata": {},
   "outputs": [
    {
     "name": "stdout",
     "output_type": "stream",
     "text": [
      "Model: \"sequential_1\"\n",
      "_________________________________________________________________\n",
      " Layer (type)                Output Shape              Param #   \n",
      "=================================================================\n",
      " vgg16 (Functional)          (None, 1, 1, 512)         14714688  \n",
      "                                                                 \n",
      " flatten (Flatten)           (None, 512)               0         \n",
      "                                                                 \n",
      " dense (Dense)               (None, 256)               131328    \n",
      "                                                                 \n",
      " dense_1 (Dense)             (None, 10)                2570      \n",
      "                                                                 \n",
      "=================================================================\n",
      "Total params: 14848586 (56.64 MB)\n",
      "Trainable params: 133898 (523.04 KB)\n",
      "Non-trainable params: 14714688 (56.13 MB)\n",
      "_________________________________________________________________\n"
     ]
    }
   ],
   "source": [
    "# дізнаємося архітектуру створеної НМ\n",
    "model.summary()"
   ]
  },
  {
   "cell_type": "code",
   "execution_count": 27,
   "id": "3d3f1548-7ab2-4ea0-af31-009fca894d62",
   "metadata": {},
   "outputs": [
    {
     "name": "stdout",
     "output_type": "stream",
     "text": [
      "Epoch 1/10\n"
     ]
    },
    {
     "name": "stderr",
     "output_type": "stream",
     "text": [
      "2024-02-17 18:23:09.116590: W external/local_tsl/tsl/framework/cpu_allocator_impl.cc:83] Allocation of 589824000 exceeds 10% of free system memory.\n"
     ]
    },
    {
     "name": "stdout",
     "output_type": "stream",
     "text": [
      "750/750 [==============================] - 72s 95ms/step - loss: 0.5625 - accuracy: 0.8035 - val_loss: 0.4511 - val_accuracy: 0.8359\n",
      "Epoch 2/10\n",
      "750/750 [==============================] - 71s 95ms/step - loss: 0.4164 - accuracy: 0.8485 - val_loss: 0.4149 - val_accuracy: 0.8491\n",
      "Epoch 3/10\n",
      "750/750 [==============================] - 67s 89ms/step - loss: 0.3834 - accuracy: 0.8598 - val_loss: 0.4254 - val_accuracy: 0.8463\n",
      "Epoch 4/10\n",
      "750/750 [==============================] - 67s 89ms/step - loss: 0.3585 - accuracy: 0.8684 - val_loss: 0.3880 - val_accuracy: 0.8544\n",
      "Epoch 5/10\n",
      "750/750 [==============================] - 67s 89ms/step - loss: 0.3406 - accuracy: 0.8741 - val_loss: 0.3962 - val_accuracy: 0.8569\n",
      "Epoch 6/10\n",
      "750/750 [==============================] - 67s 89ms/step - loss: 0.3243 - accuracy: 0.8811 - val_loss: 0.3753 - val_accuracy: 0.8640\n",
      "Epoch 7/10\n",
      "750/750 [==============================] - 68s 91ms/step - loss: 0.3127 - accuracy: 0.8842 - val_loss: 0.3704 - val_accuracy: 0.8629\n",
      "Epoch 8/10\n",
      "750/750 [==============================] - 69s 91ms/step - loss: 0.3016 - accuracy: 0.8883 - val_loss: 0.3873 - val_accuracy: 0.8630\n",
      "Epoch 9/10\n",
      "750/750 [==============================] - 67s 89ms/step - loss: 0.2890 - accuracy: 0.8928 - val_loss: 0.3599 - val_accuracy: 0.8692\n",
      "Epoch 10/10\n",
      "750/750 [==============================] - 69s 92ms/step - loss: 0.2788 - accuracy: 0.8967 - val_loss: 0.3573 - val_accuracy: 0.8720\n"
     ]
    }
   ],
   "source": [
    "# навчання нейронної мережі\n",
    "history = model.fit(x_train,\n",
    "                    y_train,\n",
    "                    epochs=10,\n",
    "                    verbose=1,\n",
    "                    batch_size=64,\n",
    "                    validation_split=0.2\n",
    "                    )"
   ]
  },
  {
   "cell_type": "code",
   "execution_count": 28,
   "id": "574412ce-7d7d-4884-a12d-78326df5f0a0",
   "metadata": {},
   "outputs": [
    {
     "data": {
      "image/png": "[encoded data removed]",
      "text/plain": [
       "<Figure size 800x500 with 1 Axes>"
      ]
     },
     "metadata": {},
     "output_type": "display_data"
    }
   ],
   "source": [
    "# виведемо графік втрат і точності\n",
    "pd.DataFrame(history.history).plot(figsize=(8, 5))\n",
    "plt.grid(True)\n",
    "plt.gca().set_ylim(0, 1)\n",
    "plt.show()"
   ]
  },
  {
   "cell_type": "code",
   "execution_count": 29,
   "id": "034ba5b2-d2c2-4a3a-b5e8-c2828cd67e07",
   "metadata": {},
   "outputs": [
    {
     "name": "stdout",
     "output_type": "stream",
     "text": [
      "313/313 [==============================] - 12s 37ms/step - loss: 0.3689 - accuracy: 0.8670\n",
      "відсоток вірних відповідей - 86.7%\n"
     ]
    }
   ],
   "source": [
    "# Оцінка якості моделі-1\n",
    "result = model.evaluate(x_test, y_test)\n",
    "print(f'відсоток вірних відповідей - {round(result[1] * 100, 1)}%')"
   ]
  },
  {
   "cell_type": "code",
   "execution_count": 30,
   "id": "4c04a1fc-160a-4769-aa27-f50ea23a46c1",
   "metadata": {},
   "outputs": [
    {
     "name": "stdout",
     "output_type": "stream",
     "text": [
      "Model: \"vgg16\"\n",
      "_________________________________________________________________\n",
      " Layer (type)                Output Shape              Param #   \n",
      "=================================================================\n",
      " input_1 (InputLayer)        [(None, 32, 32, 3)]       0         \n",
      "                                                                 \n",
      " block1_conv1 (Conv2D)       (None, 32, 32, 64)        1792      \n",
      "                                                                 \n",
      " block1_conv2 (Conv2D)       (None, 32, 32, 64)        36928     \n",
      "                                                                 \n",
      " block1_pool (MaxPooling2D)  (None, 16, 16, 64)        0         \n",
      "                                                                 \n",
      " block2_conv1 (Conv2D)       (None, 16, 16, 128)       73856     \n",
      "                                                                 \n",
      " block2_conv2 (Conv2D)       (None, 16, 16, 128)       147584    \n",
      "                                                                 \n",
      " block2_pool (MaxPooling2D)  (None, 8, 8, 128)         0         \n",
      "                                                                 \n",
      " block3_conv1 (Conv2D)       (None, 8, 8, 256)         295168    \n",
      "                                                                 \n",
      " block3_conv2 (Conv2D)       (None, 8, 8, 256)         590080    \n",
      "                                                                 \n",
      " block3_conv3 (Conv2D)       (None, 8, 8, 256)         590080    \n",
      "                                                                 \n",
      " block3_pool (MaxPooling2D)  (None, 4, 4, 256)         0         \n",
      "                                                                 \n",
      " block4_conv1 (Conv2D)       (None, 4, 4, 512)         1180160   \n",
      "                                                                 \n",
      " block4_conv2 (Conv2D)       (None, 4, 4, 512)         2359808   \n",
      "                                                                 \n",
      " block4_conv3 (Conv2D)       (None, 4, 4, 512)         2359808   \n",
      "                                                                 \n",
      " block4_pool (MaxPooling2D)  (None, 2, 2, 512)         0         \n",
      "                                                                 \n",
      " block5_conv1 (Conv2D)       (None, 2, 2, 512)         2359808   \n",
      "                                                                 \n",
      " block5_conv2 (Conv2D)       (None, 2, 2, 512)         2359808   \n",
      "                                                                 \n",
      " block5_conv3 (Conv2D)       (None, 2, 2, 512)         2359808   \n",
      "                                                                 \n",
      " block5_pool (MaxPooling2D)  (None, 1, 1, 512)         0         \n",
      "                                                                 \n",
      "=================================================================\n",
      "Total params: 14714688 (56.13 MB)\n",
      "Trainable params: 0 (0.00 Byte)\n",
      "Non-trainable params: 14714688 (56.13 MB)\n",
      "_________________________________________________________________\n"
     ]
    }
   ],
   "source": [
    "# Виводимо архітектуру нашої згортної основи\n",
    "conv_base.summary()"
   ]
  },
  {
   "cell_type": "code",
   "execution_count": 31,
   "id": "924f7cd3-d8ff-4f22-8740-c4649ecbde49",
   "metadata": {},
   "outputs": [],
   "source": [
    "# Зробимо донавчання останніх трьох шарів\n",
    "for i, layer in enumerate(model.layers):\n",
    "    layer._name = 'layer_' + str(i)\n",
    "\n",
    "\n",
    "# conv_base = VGG16(weights='imagenet', include_top=False, input_shape=(32, 32, 3))\n",
    "\n",
    "\n",
    "conv_base.trainable = True\n",
    "set_trainable = False\n",
    "for layer in conv_base.layers:\n",
    "    if layer.name == \"block5_conv1\":\n",
    "        set_trainable = True\n",
    "    if set_trainable:\n",
    "        layer.trainable = True\n",
    "    else:\n",
    "        layer.trainable = False\n",
    "\n",
    "\n",
    "modified_model = Sequential([\n",
    "   conv_base,\n",
    "   Flatten(),\n",
    "   Dense(256, activation=\"relu\"),\n",
    "   Dense(10, activation=\"softmax\"),\n",
    "])"
   ]
  },
  {
   "cell_type": "code",
   "execution_count": 32,
   "id": "2740fbe3-70fd-4b83-a792-3f56baa2c5ec",
   "metadata": {},
   "outputs": [],
   "source": [
    "# Компілюємо модель\n",
    "model.compile(\n",
    "    optimizer=Adam(learning_rate=0.0001),\n",
    "    loss='categorical_crossentropy',\n",
    "    metrics=['accuracy']\n",
    "    )"
   ]
  },
  {
   "cell_type": "code",
   "execution_count": 33,
   "id": "4f383556-2807-4044-94f2-65e482fd4cf4",
   "metadata": {},
   "outputs": [
    {
     "name": "stdout",
     "output_type": "stream",
     "text": [
      "Epoch 1/5\n"
     ]
    },
    {
     "name": "stderr",
     "output_type": "stream",
     "text": [
      "2024-02-17 18:34:46.090048: W external/local_tsl/tsl/framework/cpu_allocator_impl.cc:83] Allocation of 589824000 exceeds 10% of free system memory.\n"
     ]
    },
    {
     "name": "stdout",
     "output_type": "stream",
     "text": [
      "750/750 [==============================] - 305s 406ms/step - loss: 0.3801 - accuracy: 0.8612 - val_loss: 0.3286 - val_accuracy: 0.8763\n",
      "Epoch 2/5\n",
      "750/750 [==============================] - 301s 402ms/step - loss: 0.2827 - accuracy: 0.8947 - val_loss: 0.3203 - val_accuracy: 0.8855\n",
      "Epoch 3/5\n",
      "750/750 [==============================] - 295s 393ms/step - loss: 0.2509 - accuracy: 0.9070 - val_loss: 0.3143 - val_accuracy: 0.8836\n",
      "Epoch 4/5\n",
      "750/750 [==============================] - 291s 388ms/step - loss: 0.2243 - accuracy: 0.9154 - val_loss: 0.2734 - val_accuracy: 0.9001\n",
      "Epoch 5/5\n",
      "750/750 [==============================] - 292s 389ms/step - loss: 0.2027 - accuracy: 0.9224 - val_loss: 0.2797 - val_accuracy: 0.9012\n"
     ]
    }
   ],
   "source": [
    "# навчання нейронної мережі\n",
    "history_modified = model.fit(\n",
    "    x_train,\n",
    "    y_train,\n",
    "    epochs=5,\n",
    "    verbose=1,\n",
    "    batch_size=64,\n",
    "    validation_split=0.2\n",
    ")"
   ]
  },
  {
   "cell_type": "code",
   "execution_count": 34,
   "id": "9dd38c63-7b92-4223-9886-24635b13c616",
   "metadata": {},
   "outputs": [
    {
     "data": {
      "image/png": "[encoded data removed]",
      "text/plain": [
       "<Figure size 800x500 with 1 Axes>"
      ]
     },
     "metadata": {},
     "output_type": "display_data"
    }
   ],
   "source": [
    "# виведемо графік втрат і точності\n",
    "pd.DataFrame(history_modified.history).plot(figsize=(8, 5))\n",
    "plt.grid(True)\n",
    "plt.gca().set_ylim(0, 1)\n",
    "plt.show()"
   ]
  },
  {
   "cell_type": "code",
   "execution_count": 35,
   "id": "38b72b39-93bc-4251-a126-d94836c3cf3c",
   "metadata": {},
   "outputs": [
    {
     "name": "stdout",
     "output_type": "stream",
     "text": [
      "313/313 [==============================] - 12s 39ms/step - loss: 0.3072 - accuracy: 0.8937\n",
      "відсоток вірних відповідей - 89.4%\n"
     ]
    }
   ],
   "source": [
    "# Оцінка якості донавченої моделі-1\n",
    "result_modified = model.evaluate(x_test, y_test)\n",
    "print(f'відсоток вірних відповідей - {round(result_modified[1] * 100, 1)}%')"
   ]
  },
  {
   "cell_type": "markdown",
   "id": "cdacbeef-763f-4a0f-9820-2fd9071ac7dc",
   "metadata": {},
   "source": [
    "### Висновок: порівнюючи звичайну згорткову мережу та згорткову мережу, що використовує VGG16 в якості згорткової основи, можемо помітити, що звичайна згортоква мережа показала вищу точність. Навіть з донавчанням трьох останніх шарів в 5 епох, дана створена модель не змогла показати точності звичайної згорткової мережі в 92% якого досягли у моделі-2 в ДЗ-10-1. "
   ]
  },
  {
   "cell_type": "code",
   "execution_count": null,
   "id": "582daee7-faf8-47a4-aff0-ab933f75bf12",
   "metadata": {},
   "outputs": [],
   "source": []
  }
 ],
 "metadata": {
  "kernelspec": {
   "display_name": "Python 3 (ipykernel)",
   "language": "python",
   "name": "python3"
  },
  "language_info": {
   "codemirror_mode": {
    "name": "ipython",
    "version": 3
   },
   "file_extension": ".py",
   "mimetype": "text/x-python",
   "name": "python",
   "nbconvert_exporter": "python",
   "pygments_lexer": "ipython3",
   "version": "3.10.12"
  }
 },
 "nbformat": 4,
 "nbformat_minor": 5
}
